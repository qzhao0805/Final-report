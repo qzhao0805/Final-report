{
  "nbformat": 4,
  "nbformat_minor": 0,
  "metadata": {
    "colab": {
      "provenance": [],
      "machine_shape": "hm",
      "gpuType": "T4",
      "collapsed_sections": [
        "klzSfQPfwSNV"
      ]
    },
    "kernelspec": {
      "name": "python3",
      "display_name": "Python 3"
    },
    "language_info": {
      "name": "python"
    },
    "accelerator": "GPU"
  },
  "cells": [
    {
      "cell_type": "code",
      "execution_count": 1,
      "metadata": {
        "id": "ZqdQ95WTKCSQ",
        "colab": {
          "base_uri": "https://localhost:8080/"
        },
        "outputId": "cea28cb6-a060-4a23-82ec-bbfd1056e9cc"
      },
      "outputs": [
        {
          "output_type": "stream",
          "name": "stdout",
          "text": [
            "Cloning into 'roop'...\n",
            "remote: Enumerating objects: 1540, done.\u001b[K\n",
            "remote: Total 1540 (delta 0), reused 0 (delta 0), pack-reused 1540 (from 1)\u001b[K\n",
            "Receiving objects: 100% (1540/1540), 97.45 MiB | 19.32 MiB/s, done.\n",
            "Resolving deltas: 100% (904/904), done.\n",
            "Cloning into 'roop_colab'...\n",
            "remote: Enumerating objects: 141, done.\u001b[K\n",
            "remote: Counting objects: 100% (109/109), done.\u001b[K\n",
            "remote: Compressing objects: 100% (63/63), done.\u001b[K\n",
            "remote: Total 141 (delta 80), reused 52 (delta 46), pack-reused 32 (from 1)\u001b[K\n",
            "Receiving objects: 100% (141/141), 15.06 MiB | 18.40 MiB/s, done.\n",
            "Resolving deltas: 100% (80/80), done.\n"
          ]
        }
      ],
      "source": [
        "#@title 1.複製原始碼\n",
        "\n",
        "!git clone https://github.com/s0md3v/roop.git\n",
        "!git clone https://github.com/dream80/roop_colab.git\n"
      ]
    },
    {
      "cell_type": "code",
      "source": [
        "#@title 2.進入項目\n",
        "\n",
        "%cd /content/roop\n",
        "\n",
        "Version = \"v1.3.2\" #@param [\"v1.3.0\",\"v1.3.1\",\"v1.3.2\"]\n",
        "\n",
        "vdict = {\n",
        "    \"v1.3.0\": \"142284916a5448acdf1a7fdca56d01c5aecafdad\",\n",
        "    \"v1.3.1\": \"e0642702f388ea16089a1d4a929728fa69457d60\",\n",
        "    \"v1.3.2\": \"c2d1feb17a9c51061b52cae5897136528f3b80cc\",\n",
        "}\n",
        "\n",
        "commit=vdict.get(Version, \"Invalid Version\")\n",
        "\n",
        "vcmd= f\"checkout {commit}\"\n",
        "\n",
        "\n",
        "!git $vcmd"
      ],
      "metadata": {
        "id": "FnSwYDX5K1P2"
      },
      "execution_count": null,
      "outputs": []
    },
    {
      "cell_type": "code",
      "source": [
        "#@title 3.安裝依賴\n",
        "\n",
        "#有红色警告不用担心！\n",
        "%cd /content/roop\n",
        "!pip install -r requirements.txt\n",
        "!pip install onnxruntime-gpu==1.17.0 --index-url=https://pkgs.dev.azure.com/onnxruntime/onnxruntime/_packaging/onnxruntime-cuda-12/pypi/simple\n",
        "#!pip install onnxruntime-gpu==1.15.0"
      ],
      "metadata": {
        "id": "f6urrvLGKqcU"
      },
      "execution_count": null,
      "outputs": []
    },
    {
      "cell_type": "code",
      "source": [
        "#@title 4.準備素材\n",
        "\n",
        "source = \"/content/roop_colab/1.jpg\" #@param {type:\"string\"}\n",
        "target = \"/content/roop_colab/2.mp4\" #@param {type:\"string\"}\n",
        "output = \"/content/roop_colab/out.mp4\" #@param {type:\"string\"}"
      ],
      "metadata": {
        "id": "JXUkjpNpz2pc"
      },
      "execution_count": null,
      "outputs": []
    },
    {
      "cell_type": "markdown",
      "source": [
        "source : 源素素材路徑，包含人臉的圖片\n",
        "\n",
        "\n",
        "1.   清單項目\n",
        "2.   清單項目\n",
        "\n",
        "\n",
        "\n",
        "target : 目標圖片或視訊路徑，也要包含人臉\n",
        "\n",
        "output : 輸出路徑，如果targe是圖片，這裡也改成圖片後綴\n",
        "\n"
      ],
      "metadata": {
        "id": "vW_Ovjjq8Qv8"
      }
    },
    {
      "cell_type": "code",
      "source": [
        "#@title 5.開始換臉\n",
        "\n",
        "\n",
        "%cd /content/roop\n",
        "\n",
        "Device = \"cuda\" #@param [\"cuda\", \"cpu\"]\n",
        "\n",
        "Processor = \"face_swapper face_enhancer\" #@param [\"face_swapper face_enhancer\", \"face_swapper\",\"face_enhancer\"]\n",
        "\n",
        "VideoEncoder = \"libx264\" #@param ['libx264', 'libx265', 'libvpx-vp9', 'h264_nvenc', 'hevc_nvenc']\n",
        "\n",
        "VideoQuality = \"35\" #@param {type:\"string\"}\n",
        "\n",
        "TempFormat = \"jpg\" #@param [\"jpg\", \"png\"]\n",
        "\n",
        "TempQuality = \"0\" #@param {type:\"string\"}\n",
        "\n",
        "\n",
        "KeepFPS = True #@param {type:\"boolean\"}\n",
        "SkipAudio = False #@param {type:\"boolean\"}\n",
        "KeepFrames = False #@param {type:\"boolean\"}\n",
        "ManyFaces = False #@param {type:\"boolean\"}\n",
        "\n",
        "\n",
        "KeepFPS =\"--keep-fps\" if KeepFPS==True else \"\"\n",
        "SkipAudio =\"--skip-audio\" if SkipAudio==True else \"\"\n",
        "KeepFrames =\"--keep-frames\" if KeepFrames==True else \"\"\n",
        "ManyFaces =\"--many-faces\" if ManyFaces==True else \"\"\n",
        "\n",
        "\n",
        "\n",
        "cmd = f\"run.py --execution-provider {Device} -s {source} -t {target} -o {output} --frame-processor {Processor} --output-video-encoder {VideoEncoder} --output-video-quality {VideoQuality} {KeepFPS} {SkipAudio} {KeepFrames} {ManyFaces} --temp-frame-format {TempFormat} --temp-frame-quality {TempQuality}\"\n",
        "print(\"cmd:\"+cmd)\n",
        "\n",
        "\n",
        "!wget https://github.com/dream80/roop_colab/releases/download/v0.0.1/inswapper_128.onnx\n",
        "!mkdir models\n",
        "!mv inswapper_128.onnx models/\n",
        "\n",
        "!wget https://github.com/TencentARC/GFPGAN/releases/download/v1.3.4/GFPGANv1.4.pth\n",
        "!mv GFPGANv1.4.pth models/\n",
        "\n",
        "!python $cmd\n"
      ],
      "metadata": {
        "id": "cMJi9bI3LUyX"
      },
      "execution_count": null,
      "outputs": []
    }
  ]
}